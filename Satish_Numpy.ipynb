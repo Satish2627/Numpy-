{
 "cells": [
  {
   "cell_type": "code",
   "execution_count": 1,
   "id": "39033305",
   "metadata": {},
   "outputs": [],
   "source": [
    "import numpy as np"
   ]
  },
  {
   "cell_type": "code",
   "execution_count": 2,
   "id": "1a196418",
   "metadata": {},
   "outputs": [],
   "source": [
    "a=[5,2,7,4,1]"
   ]
  },
  {
   "cell_type": "code",
   "execution_count": 3,
   "id": "4610251f",
   "metadata": {},
   "outputs": [
    {
     "data": {
      "text/plain": [
       "[5, 2, 7, 4, 1]"
      ]
     },
     "execution_count": 3,
     "metadata": {},
     "output_type": "execute_result"
    }
   ],
   "source": [
    "a"
   ]
  },
  {
   "cell_type": "code",
   "execution_count": 4,
   "id": "e343fa2d",
   "metadata": {},
   "outputs": [
    {
     "data": {
      "text/plain": [
       "array([5, 2, 7, 4, 1])"
      ]
     },
     "execution_count": 4,
     "metadata": {},
     "output_type": "execute_result"
    }
   ],
   "source": [
    "#Converting a list into an array\n",
    "v = np.array(a)\n",
    "v"
   ]
  },
  {
   "cell_type": "code",
   "execution_count": 5,
   "id": "d260d9e7",
   "metadata": {},
   "outputs": [
    {
     "name": "stdout",
     "output_type": "stream",
     "text": [
      "[5 2 7 4 1]\n"
     ]
    }
   ],
   "source": [
    "print(v)"
   ]
  },
  {
   "cell_type": "code",
   "execution_count": 6,
   "id": "736ade8a",
   "metadata": {},
   "outputs": [
    {
     "data": {
      "text/plain": [
       "numpy.ndarray"
      ]
     },
     "execution_count": 6,
     "metadata": {},
     "output_type": "execute_result"
    }
   ],
   "source": [
    "type(v)"
   ]
  },
  {
   "cell_type": "code",
   "execution_count": 7,
   "id": "812c9f55",
   "metadata": {},
   "outputs": [
    {
     "data": {
      "text/plain": [
       "array([5, 2, 7, 4, 1])"
      ]
     },
     "execution_count": 7,
     "metadata": {},
     "output_type": "execute_result"
    }
   ],
   "source": [
    "#Directly create an array\n",
    "v = np.array([5,2,7,4,1])\n",
    "v"
   ]
  },
  {
   "cell_type": "code",
   "execution_count": 8,
   "id": "c199b12a",
   "metadata": {},
   "outputs": [],
   "source": [
    "#Create a Matrix\n",
    "v = np.array([[5,2,7],[1,4,8],[11,15,25]])"
   ]
  },
  {
   "cell_type": "code",
   "execution_count": 9,
   "id": "e5b0fb4f",
   "metadata": {},
   "outputs": [
    {
     "data": {
      "text/plain": [
       "array([[ 5,  2,  7],\n",
       "       [ 1,  4,  8],\n",
       "       [11, 15, 25]])"
      ]
     },
     "execution_count": 9,
     "metadata": {},
     "output_type": "execute_result"
    }
   ],
   "source": [
    "v"
   ]
  },
  {
   "cell_type": "code",
   "execution_count": 10,
   "id": "79fef248",
   "metadata": {},
   "outputs": [
    {
     "name": "stdout",
     "output_type": "stream",
     "text": [
      "[[ 5  2  7]\n",
      " [ 1  4  8]\n",
      " [11 15 25]]\n"
     ]
    }
   ],
   "source": [
    "print(v)"
   ]
  },
  {
   "cell_type": "code",
   "execution_count": 11,
   "id": "d4198712",
   "metadata": {},
   "outputs": [
    {
     "data": {
      "text/plain": [
       "(3, 3)"
      ]
     },
     "execution_count": 11,
     "metadata": {},
     "output_type": "execute_result"
    }
   ],
   "source": [
    "# To know the rows and columns of a matrix\n",
    "v.shape"
   ]
  },
  {
   "cell_type": "code",
   "execution_count": 12,
   "id": "ec67ae08",
   "metadata": {},
   "outputs": [],
   "source": [
    "v1 = np.array([[1,2,3],[4,5,6],[7,8,9]])"
   ]
  },
  {
   "cell_type": "code",
   "execution_count": 13,
   "id": "ed5cf2ff",
   "metadata": {},
   "outputs": [
    {
     "data": {
      "text/plain": [
       "array([[1, 2, 3],\n",
       "       [4, 5, 6],\n",
       "       [7, 8, 9]])"
      ]
     },
     "execution_count": 13,
     "metadata": {},
     "output_type": "execute_result"
    }
   ],
   "source": [
    "v1"
   ]
  },
  {
   "cell_type": "code",
   "execution_count": 14,
   "id": "b48bc44e",
   "metadata": {},
   "outputs": [
    {
     "name": "stdout",
     "output_type": "stream",
     "text": [
      "[[1 2 3]\n",
      " [4 5 6]\n",
      " [7 8 9]]\n"
     ]
    }
   ],
   "source": [
    "print(v1)"
   ]
  },
  {
   "cell_type": "code",
   "execution_count": 15,
   "id": "3137206e",
   "metadata": {},
   "outputs": [
    {
     "data": {
      "text/plain": [
       "array([[ 62,  76,  90],\n",
       "       [ 73,  86,  99],\n",
       "       [246, 297, 348]])"
      ]
     },
     "execution_count": 15,
     "metadata": {},
     "output_type": "execute_result"
    }
   ],
   "source": [
    "#Matrix Multiplication\n",
    "mul = np.matmul(v,v1)\n",
    "mul"
   ]
  },
  {
   "cell_type": "code",
   "execution_count": 16,
   "id": "9da07ba0",
   "metadata": {},
   "outputs": [],
   "source": [
    "#Dot matrix [Dot matrix and Matmul are the same]\n",
    "d = np.dot(v,v1)"
   ]
  },
  {
   "cell_type": "code",
   "execution_count": 17,
   "id": "6fcc07bb",
   "metadata": {},
   "outputs": [
    {
     "data": {
      "text/plain": [
       "array([[ 62,  76,  90],\n",
       "       [ 73,  86,  99],\n",
       "       [246, 297, 348]])"
      ]
     },
     "execution_count": 17,
     "metadata": {},
     "output_type": "execute_result"
    }
   ],
   "source": [
    "d"
   ]
  },
  {
   "cell_type": "code",
   "execution_count": 18,
   "id": "173dad08",
   "metadata": {},
   "outputs": [
    {
     "data": {
      "text/plain": [
       "array([[ 6,  4, 10],\n",
       "       [ 5,  9, 14],\n",
       "       [18, 23, 34]])"
      ]
     },
     "execution_count": 18,
     "metadata": {},
     "output_type": "execute_result"
    }
   ],
   "source": [
    "v+v1"
   ]
  },
  {
   "cell_type": "code",
   "execution_count": 19,
   "id": "6e556dbd",
   "metadata": {},
   "outputs": [
    {
     "data": {
      "text/plain": [
       "array([[ 4,  0,  4],\n",
       "       [-3, -1,  2],\n",
       "       [ 4,  7, 16]])"
      ]
     },
     "execution_count": 19,
     "metadata": {},
     "output_type": "execute_result"
    }
   ],
   "source": [
    "v-v1"
   ]
  },
  {
   "cell_type": "code",
   "execution_count": 20,
   "id": "bba6cc34",
   "metadata": {},
   "outputs": [
    {
     "data": {
      "text/plain": [
       "array([[  5,   4,  21],\n",
       "       [  4,  20,  48],\n",
       "       [ 77, 120, 225]])"
      ]
     },
     "execution_count": 20,
     "metadata": {},
     "output_type": "execute_result"
    }
   ],
   "source": [
    "v*v1"
   ]
  },
  {
   "cell_type": "code",
   "execution_count": 21,
   "id": "457d42fb",
   "metadata": {},
   "outputs": [
    {
     "data": {
      "text/plain": [
       "array([[5.        , 1.        , 2.33333333],\n",
       "       [0.25      , 0.8       , 1.33333333],\n",
       "       [1.57142857, 1.875     , 2.77777778]])"
      ]
     },
     "execution_count": 21,
     "metadata": {},
     "output_type": "execute_result"
    }
   ],
   "source": [
    "v/v1"
   ]
  },
  {
   "cell_type": "code",
   "execution_count": 22,
   "id": "f84ec1f8",
   "metadata": {},
   "outputs": [
    {
     "data": {
      "text/plain": [
       "array([[          5,           4,         343],\n",
       "       [          1,        1024,      262144],\n",
       "       [   19487171, -1732076671,   766306777]], dtype=int32)"
      ]
     },
     "execution_count": 22,
     "metadata": {},
     "output_type": "execute_result"
    }
   ],
   "source": [
    "v**v1"
   ]
  },
  {
   "cell_type": "code",
   "execution_count": 23,
   "id": "6f399997",
   "metadata": {},
   "outputs": [
    {
     "data": {
      "text/plain": [
       "array([[0, 0, 1],\n",
       "       [1, 4, 2],\n",
       "       [4, 7, 7]], dtype=int32)"
      ]
     },
     "execution_count": 23,
     "metadata": {},
     "output_type": "execute_result"
    }
   ],
   "source": [
    "v%v1"
   ]
  },
  {
   "cell_type": "code",
   "execution_count": 24,
   "id": "b27ccb80",
   "metadata": {},
   "outputs": [
    {
     "data": {
      "text/plain": [
       "array([[5, 1, 2],\n",
       "       [0, 0, 1],\n",
       "       [1, 1, 2]], dtype=int32)"
      ]
     },
     "execution_count": 24,
     "metadata": {},
     "output_type": "execute_result"
    }
   ],
   "source": [
    "v//v1"
   ]
  },
  {
   "cell_type": "code",
   "execution_count": 25,
   "id": "9ecab24e",
   "metadata": {},
   "outputs": [
    {
     "data": {
      "text/plain": [
       "78"
      ]
     },
     "execution_count": 25,
     "metadata": {},
     "output_type": "execute_result"
    }
   ],
   "source": [
    "#mean of matrix\n",
    "np.sum(v)\n"
   ]
  },
  {
   "cell_type": "code",
   "execution_count": 26,
   "id": "97d07da2",
   "metadata": {},
   "outputs": [
    {
     "data": {
      "text/plain": [
       "array([[ 6,  4, 10],\n",
       "       [ 5,  9, 14],\n",
       "       [18, 23, 34]])"
      ]
     },
     "execution_count": 26,
     "metadata": {},
     "output_type": "execute_result"
    }
   ],
   "source": [
    "np.add(v,v1)"
   ]
  },
  {
   "cell_type": "code",
   "execution_count": 27,
   "id": "715d2056",
   "metadata": {},
   "outputs": [
    {
     "data": {
      "text/plain": [
       "array([[ 6,  4, 10],\n",
       "       [ 5,  9, 14],\n",
       "       [18, 23, 34]])"
      ]
     },
     "execution_count": 27,
     "metadata": {},
     "output_type": "execute_result"
    }
   ],
   "source": [
    "v+v1 #np.add(v,v1) same"
   ]
  },
  {
   "cell_type": "code",
   "execution_count": 28,
   "id": "fd3c181a",
   "metadata": {},
   "outputs": [
    {
     "data": {
      "text/plain": [
       "array([[ 4,  0,  4],\n",
       "       [-3, -1,  2],\n",
       "       [ 4,  7, 16]])"
      ]
     },
     "execution_count": 28,
     "metadata": {},
     "output_type": "execute_result"
    }
   ],
   "source": [
    "np.subtract(v,v1)#v-v1"
   ]
  },
  {
   "cell_type": "code",
   "execution_count": 29,
   "id": "94f9ea31",
   "metadata": {},
   "outputs": [
    {
     "name": "stdout",
     "output_type": "stream",
     "text": [
      "8.666666666666666\n"
     ]
    }
   ],
   "source": [
    "print(np.mean(v))"
   ]
  },
  {
   "cell_type": "code",
   "execution_count": 30,
   "id": "b4b6bf04",
   "metadata": {},
   "outputs": [
    {
     "name": "stdout",
     "output_type": "stream",
     "text": [
      "5.0\n"
     ]
    }
   ],
   "source": [
    "print(np.mean(v1))"
   ]
  },
  {
   "cell_type": "code",
   "execution_count": 31,
   "id": "28ef0137",
   "metadata": {},
   "outputs": [
    {
     "name": "stdout",
     "output_type": "stream",
     "text": [
      "9\n"
     ]
    }
   ],
   "source": [
    "print(round(np.mean(v)))"
   ]
  },
  {
   "cell_type": "code",
   "execution_count": 32,
   "id": "8750bbbb",
   "metadata": {},
   "outputs": [
    {
     "name": "stdout",
     "output_type": "stream",
     "text": [
      "25\n"
     ]
    }
   ],
   "source": [
    "#max\n",
    "print(np.max(v))"
   ]
  },
  {
   "cell_type": "code",
   "execution_count": 33,
   "id": "5e8fda8c",
   "metadata": {},
   "outputs": [
    {
     "name": "stdout",
     "output_type": "stream",
     "text": [
      "9\n"
     ]
    }
   ],
   "source": [
    "print(np.max(v1))"
   ]
  },
  {
   "cell_type": "code",
   "execution_count": 34,
   "id": "fd9cb399",
   "metadata": {},
   "outputs": [
    {
     "name": "stdout",
     "output_type": "stream",
     "text": [
      "1\n"
     ]
    }
   ],
   "source": [
    "#min\n",
    "print(np.min(v))"
   ]
  },
  {
   "cell_type": "code",
   "execution_count": 35,
   "id": "74450f5e",
   "metadata": {},
   "outputs": [
    {
     "name": "stdout",
     "output_type": "stream",
     "text": [
      "min of v 1 min of v1 1\n"
     ]
    }
   ],
   "source": [
    "#print(np.min(v1))\n",
    "print('min of v',np.min(v),'min of v1',np.min(v1))"
   ]
  },
  {
   "cell_type": "code",
   "execution_count": 36,
   "id": "e1f50bc6",
   "metadata": {},
   "outputs": [
    {
     "name": "stdout",
     "output_type": "stream",
     "text": [
      "7.0\n",
      "5.0\n"
     ]
    }
   ],
   "source": [
    "#median\n",
    "print(np.median(v))\n",
    "print(np.median(v1))"
   ]
  },
  {
   "cell_type": "code",
   "execution_count": 37,
   "id": "824ed8e1",
   "metadata": {},
   "outputs": [
    {
     "data": {
      "text/plain": [
       "array([[ 5,  2,  7],\n",
       "       [ 1,  4,  8],\n",
       "       [11, 15, 25]])"
      ]
     },
     "execution_count": 37,
     "metadata": {},
     "output_type": "execute_result"
    }
   ],
   "source": [
    "v"
   ]
  },
  {
   "cell_type": "code",
   "execution_count": 38,
   "id": "8a620206",
   "metadata": {},
   "outputs": [
    {
     "data": {
      "text/plain": [
       "array([5, 2, 7])"
      ]
     },
     "execution_count": 38,
     "metadata": {},
     "output_type": "execute_result"
    }
   ],
   "source": [
    "v[0]"
   ]
  },
  {
   "cell_type": "code",
   "execution_count": 39,
   "id": "6631da53",
   "metadata": {},
   "outputs": [
    {
     "data": {
      "text/plain": [
       "array([1, 4, 8])"
      ]
     },
     "execution_count": 39,
     "metadata": {},
     "output_type": "execute_result"
    }
   ],
   "source": [
    "v[1]"
   ]
  },
  {
   "cell_type": "code",
   "execution_count": 40,
   "id": "1db8e623",
   "metadata": {},
   "outputs": [
    {
     "data": {
      "text/plain": [
       "array([[1, 2, 3],\n",
       "       [4, 5, 6],\n",
       "       [7, 8, 9]])"
      ]
     },
     "execution_count": 40,
     "metadata": {},
     "output_type": "execute_result"
    }
   ],
   "source": [
    "v1"
   ]
  },
  {
   "cell_type": "code",
   "execution_count": 41,
   "id": "758c8066",
   "metadata": {},
   "outputs": [
    {
     "data": {
      "text/plain": [
       "array([4, 5, 6])"
      ]
     },
     "execution_count": 41,
     "metadata": {},
     "output_type": "execute_result"
    }
   ],
   "source": [
    "v1[1]"
   ]
  },
  {
   "cell_type": "code",
   "execution_count": 42,
   "id": "5c41d774",
   "metadata": {},
   "outputs": [
    {
     "data": {
      "text/plain": [
       "array([[5, 2, 7]])"
      ]
     },
     "execution_count": 42,
     "metadata": {},
     "output_type": "execute_result"
    }
   ],
   "source": [
    "v[0:1]"
   ]
  },
  {
   "cell_type": "code",
   "execution_count": 43,
   "id": "2330484b",
   "metadata": {},
   "outputs": [
    {
     "data": {
      "text/plain": [
       "array([5, 2, 7])"
      ]
     },
     "execution_count": 43,
     "metadata": {},
     "output_type": "execute_result"
    }
   ],
   "source": [
    "row_v = v[0]\n",
    "row_v"
   ]
  },
  {
   "cell_type": "code",
   "execution_count": 44,
   "id": "49f1211a",
   "metadata": {},
   "outputs": [
    {
     "data": {
      "text/plain": [
       "7"
      ]
     },
     "execution_count": 44,
     "metadata": {},
     "output_type": "execute_result"
    }
   ],
   "source": [
    "np.max(row_v)"
   ]
  },
  {
   "cell_type": "code",
   "execution_count": 45,
   "id": "fbbb2556",
   "metadata": {},
   "outputs": [
    {
     "data": {
      "text/plain": [
       "array([ 5,  1, 11])"
      ]
     },
     "execution_count": 45,
     "metadata": {},
     "output_type": "execute_result"
    }
   ],
   "source": [
    "#for column\n",
    "v[:,0]"
   ]
  },
  {
   "cell_type": "code",
   "execution_count": 46,
   "id": "65153e96",
   "metadata": {},
   "outputs": [
    {
     "data": {
      "text/plain": [
       "array([ 2,  4, 15])"
      ]
     },
     "execution_count": 46,
     "metadata": {},
     "output_type": "execute_result"
    }
   ],
   "source": [
    "v[:,1]"
   ]
  },
  {
   "cell_type": "code",
   "execution_count": 47,
   "id": "7e9c2dfd",
   "metadata": {},
   "outputs": [],
   "source": [
    "col_v = v[:,0]"
   ]
  },
  {
   "cell_type": "code",
   "execution_count": 48,
   "id": "d2042bdc",
   "metadata": {},
   "outputs": [
    {
     "data": {
      "text/plain": [
       "array([ 5,  1, 11])"
      ]
     },
     "execution_count": 48,
     "metadata": {},
     "output_type": "execute_result"
    }
   ],
   "source": [
    "col_v"
   ]
  },
  {
   "cell_type": "code",
   "execution_count": 49,
   "id": "55d04406",
   "metadata": {},
   "outputs": [
    {
     "data": {
      "text/plain": [
       "11"
      ]
     },
     "execution_count": 49,
     "metadata": {},
     "output_type": "execute_result"
    }
   ],
   "source": [
    "np.max(col_v)"
   ]
  },
  {
   "cell_type": "code",
   "execution_count": 50,
   "id": "c9c96544",
   "metadata": {},
   "outputs": [
    {
     "data": {
      "text/plain": [
       "array([[ 5,  1, 11],\n",
       "       [ 2,  4, 15],\n",
       "       [ 7,  8, 25]])"
      ]
     },
     "execution_count": 50,
     "metadata": {},
     "output_type": "execute_result"
    }
   ],
   "source": [
    "#Transpose of matrix\n",
    "v.T"
   ]
  },
  {
   "cell_type": "code",
   "execution_count": 51,
   "id": "1bd84b25",
   "metadata": {},
   "outputs": [
    {
     "name": "stdout",
     "output_type": "stream",
     "text": [
      "\n",
      " 7.102425250887506\n",
      "\n",
      " 2.581988897471611\n"
     ]
    }
   ],
   "source": [
    "#Standard Diviation\n",
    "print('\\n',np.std(v))\n",
    "print('\\n',np.std(v1))"
   ]
  },
  {
   "cell_type": "code",
   "execution_count": 52,
   "id": "162cfe1d",
   "metadata": {},
   "outputs": [
    {
     "data": {
      "text/plain": [
       "array([[2.23606798, 1.41421356, 2.64575131],\n",
       "       [1.        , 2.        , 2.82842712],\n",
       "       [3.31662479, 3.87298335, 5.        ]])"
      ]
     },
     "execution_count": 52,
     "metadata": {},
     "output_type": "execute_result"
    }
   ],
   "source": [
    "#Square root of the entire matrix\n",
    "np.sqrt(v)"
   ]
  },
  {
   "cell_type": "code",
   "execution_count": 53,
   "id": "e69a3819",
   "metadata": {},
   "outputs": [
    {
     "data": {
      "text/plain": [
       "array([[1.        , 1.41421356, 1.73205081],\n",
       "       [2.        , 2.23606798, 2.44948974],\n",
       "       [2.64575131, 2.82842712, 3.        ]])"
      ]
     },
     "execution_count": 53,
     "metadata": {},
     "output_type": "execute_result"
    }
   ],
   "source": [
    "np.sqrt(v1)"
   ]
  },
  {
   "cell_type": "code",
   "execution_count": 54,
   "id": "c80c669e",
   "metadata": {},
   "outputs": [],
   "source": [
    "#creation of Sparse Matrix\n",
    "#Creating a 5*5 zero matrix\n",
    "a=np.zeros([5,5])"
   ]
  },
  {
   "cell_type": "code",
   "execution_count": 55,
   "id": "f4e51cc5",
   "metadata": {},
   "outputs": [
    {
     "data": {
      "text/plain": [
       "array([[0., 0., 0., 0., 0.],\n",
       "       [0., 0., 0., 0., 0.],\n",
       "       [0., 0., 0., 0., 0.],\n",
       "       [0., 0., 0., 0., 0.],\n",
       "       [0., 0., 0., 0., 0.]])"
      ]
     },
     "execution_count": 55,
     "metadata": {},
     "output_type": "execute_result"
    }
   ],
   "source": [
    "a"
   ]
  },
  {
   "cell_type": "code",
   "execution_count": 56,
   "id": "184295ac",
   "metadata": {},
   "outputs": [
    {
     "data": {
      "text/plain": [
       "(5, 5)"
      ]
     },
     "execution_count": 56,
     "metadata": {},
     "output_type": "execute_result"
    }
   ],
   "source": [
    "a.shape"
   ]
  },
  {
   "cell_type": "code",
   "execution_count": 57,
   "id": "0bacbd91",
   "metadata": {},
   "outputs": [
    {
     "data": {
      "text/plain": [
       "array([[1., 1., 1., 1., 1.],\n",
       "       [1., 1., 1., 1., 1.],\n",
       "       [1., 1., 1., 1., 1.],\n",
       "       [1., 1., 1., 1., 1.],\n",
       "       [1., 1., 1., 1., 1.]])"
      ]
     },
     "execution_count": 57,
     "metadata": {},
     "output_type": "execute_result"
    }
   ],
   "source": [
    "a = np.ones([5,5])\n",
    "a"
   ]
  },
  {
   "cell_type": "code",
   "execution_count": 58,
   "id": "dd604744",
   "metadata": {},
   "outputs": [
    {
     "data": {
      "text/plain": [
       "dtype('float64')"
      ]
     },
     "execution_count": 58,
     "metadata": {},
     "output_type": "execute_result"
    }
   ],
   "source": [
    "a.dtype"
   ]
  },
  {
   "cell_type": "code",
   "execution_count": 59,
   "id": "a88dd0ac",
   "metadata": {},
   "outputs": [
    {
     "data": {
      "text/plain": [
       "numpy.ndarray"
      ]
     },
     "execution_count": 59,
     "metadata": {},
     "output_type": "execute_result"
    }
   ],
   "source": [
    "type(a)"
   ]
  },
  {
   "cell_type": "code",
   "execution_count": 60,
   "id": "5aa0baa6",
   "metadata": {},
   "outputs": [],
   "source": [
    "#Identity matrix of order 3\n",
    "a = [1,1,1]\n",
    "v = np.diag(a)"
   ]
  },
  {
   "cell_type": "code",
   "execution_count": 61,
   "id": "ef132650",
   "metadata": {},
   "outputs": [
    {
     "data": {
      "text/plain": [
       "array([[1, 0, 0],\n",
       "       [0, 1, 0],\n",
       "       [0, 0, 1]])"
      ]
     },
     "execution_count": 61,
     "metadata": {},
     "output_type": "execute_result"
    }
   ],
   "source": [
    "v"
   ]
  },
  {
   "cell_type": "code",
   "execution_count": 62,
   "id": "03ad0749",
   "metadata": {},
   "outputs": [
    {
     "data": {
      "text/plain": [
       "(3, 3)"
      ]
     },
     "execution_count": 62,
     "metadata": {},
     "output_type": "execute_result"
    }
   ],
   "source": [
    "v.shape"
   ]
  },
  {
   "cell_type": "code",
   "execution_count": 63,
   "id": "afb06d3d",
   "metadata": {},
   "outputs": [
    {
     "data": {
      "text/plain": [
       "array([[1., 0., 0.],\n",
       "       [0., 1., 0.],\n",
       "       [0., 0., 1.]])"
      ]
     },
     "execution_count": 63,
     "metadata": {},
     "output_type": "execute_result"
    }
   ],
   "source": [
    "c = np.identity(3)\n",
    "c"
   ]
  },
  {
   "cell_type": "code",
   "execution_count": 64,
   "id": "c4b5b3ce",
   "metadata": {},
   "outputs": [
    {
     "data": {
      "text/plain": [
       "array([[1, 0, 0, 0, 0],\n",
       "       [0, 2, 0, 0, 0],\n",
       "       [0, 0, 3, 0, 0],\n",
       "       [0, 0, 0, 4, 0],\n",
       "       [0, 0, 0, 0, 5]])"
      ]
     },
     "execution_count": 64,
     "metadata": {},
     "output_type": "execute_result"
    }
   ],
   "source": [
    "# not identity but just example\n",
    "b = [1,2,3,4,5]\n",
    "v = np.diag(b)\n",
    "v"
   ]
  },
  {
   "cell_type": "code",
   "execution_count": 68,
   "id": "46d8ffd4",
   "metadata": {},
   "outputs": [
    {
     "data": {
      "text/plain": [
       "array([[ 1,  2,  3,  4,  5],\n",
       "       [ 6,  7,  8,  9, 10]])"
      ]
     },
     "execution_count": 68,
     "metadata": {},
     "output_type": "execute_result"
    }
   ],
   "source": [
    "#Reshape\n",
    "a = np.array([[1,2,3,4,5],[6,7,8,9,10]])\n",
    "a"
   ]
  },
  {
   "cell_type": "code",
   "execution_count": 69,
   "id": "03aabc15",
   "metadata": {},
   "outputs": [
    {
     "data": {
      "text/plain": [
       "(2, 5)"
      ]
     },
     "execution_count": 69,
     "metadata": {},
     "output_type": "execute_result"
    }
   ],
   "source": [
    "a.shape"
   ]
  },
  {
   "cell_type": "code",
   "execution_count": 70,
   "id": "804f4865",
   "metadata": {},
   "outputs": [],
   "source": [
    "a_rshp = a.reshape(5,2)"
   ]
  },
  {
   "cell_type": "code",
   "execution_count": 71,
   "id": "b8cd751b",
   "metadata": {},
   "outputs": [
    {
     "data": {
      "text/plain": [
       "array([[ 1,  2],\n",
       "       [ 3,  4],\n",
       "       [ 5,  6],\n",
       "       [ 7,  8],\n",
       "       [ 9, 10]])"
      ]
     },
     "execution_count": 71,
     "metadata": {},
     "output_type": "execute_result"
    }
   ],
   "source": [
    "a_rshp"
   ]
  },
  {
   "cell_type": "code",
   "execution_count": 72,
   "id": "ffeb9247",
   "metadata": {},
   "outputs": [],
   "source": [
    "a_trans = a.T"
   ]
  },
  {
   "cell_type": "code",
   "execution_count": 74,
   "id": "7a5f9df1",
   "metadata": {},
   "outputs": [
    {
     "data": {
      "text/plain": [
       "array([[ 1,  6],\n",
       "       [ 2,  7],\n",
       "       [ 3,  8],\n",
       "       [ 4,  9],\n",
       "       [ 5, 10]])"
      ]
     },
     "execution_count": 74,
     "metadata": {},
     "output_type": "execute_result"
    }
   ],
   "source": [
    "a_trans"
   ]
  },
  {
   "cell_type": "code",
   "execution_count": 75,
   "id": "24986bae",
   "metadata": {},
   "outputs": [
    {
     "data": {
      "text/plain": [
       "array([ 1,  2,  3,  4,  5,  6,  7,  8,  9, 10])"
      ]
     },
     "execution_count": 75,
     "metadata": {},
     "output_type": "execute_result"
    }
   ],
   "source": [
    "#Flattening: Horizontal Flattening\n",
    "a_flat = a.flatten()\n",
    "a_flat"
   ]
  },
  {
   "cell_type": "code",
   "execution_count": 76,
   "id": "c1dd06f2",
   "metadata": {},
   "outputs": [
    {
     "data": {
      "text/plain": [
       "(10,)"
      ]
     },
     "execution_count": 76,
     "metadata": {},
     "output_type": "execute_result"
    }
   ],
   "source": [
    "a_flat.shape"
   ]
  },
  {
   "cell_type": "code",
   "execution_count": 77,
   "id": "e2133bb3",
   "metadata": {},
   "outputs": [
    {
     "data": {
      "text/plain": [
       "array([[ 1],\n",
       "       [ 2],\n",
       "       [ 3],\n",
       "       [ 4],\n",
       "       [ 5],\n",
       "       [ 6],\n",
       "       [ 7],\n",
       "       [ 8],\n",
       "       [ 9],\n",
       "       [10]])"
      ]
     },
     "execution_count": 77,
     "metadata": {},
     "output_type": "execute_result"
    }
   ],
   "source": [
    "#Vertical Flattening\n",
    "a_ver_flat = a.reshape(-1,1)\n",
    "a_ver_flat"
   ]
  },
  {
   "cell_type": "code",
   "execution_count": 78,
   "id": "fbc65cbc",
   "metadata": {},
   "outputs": [
    {
     "data": {
      "text/plain": [
       "(10, 1)"
      ]
     },
     "execution_count": 78,
     "metadata": {},
     "output_type": "execute_result"
    }
   ],
   "source": [
    "a_ver_flat.shape"
   ]
  },
  {
   "cell_type": "code",
   "execution_count": 81,
   "id": "f97f1db5",
   "metadata": {},
   "outputs": [
    {
     "data": {
      "text/plain": [
       "[1, 2, 3, 4, 5, 6, 7, 8, 9]"
      ]
     },
     "execution_count": 81,
     "metadata": {},
     "output_type": "execute_result"
    }
   ],
   "source": [
    "#range function \n",
    "a = list(range(1,10))\n",
    "a"
   ]
  },
  {
   "cell_type": "code",
   "execution_count": 82,
   "id": "12089205",
   "metadata": {},
   "outputs": [],
   "source": [
    "a = list(range(2,11,2))"
   ]
  },
  {
   "cell_type": "code",
   "execution_count": 83,
   "id": "24f7bc69",
   "metadata": {},
   "outputs": [
    {
     "data": {
      "text/plain": [
       "[2, 4, 6, 8, 10]"
      ]
     },
     "execution_count": 83,
     "metadata": {},
     "output_type": "execute_result"
    }
   ],
   "source": [
    "a"
   ]
  },
  {
   "cell_type": "code",
   "execution_count": 84,
   "id": "4a636d2f",
   "metadata": {},
   "outputs": [
    {
     "data": {
      "text/plain": [
       "array([ 1,  2,  3,  4,  5,  6,  7,  8,  9, 10])"
      ]
     },
     "execution_count": 84,
     "metadata": {},
     "output_type": "execute_result"
    }
   ],
   "source": [
    "#arange keyword/ command :-- arange - array range\n",
    "a = np.arange(1,11)\n",
    "a"
   ]
  },
  {
   "cell_type": "code",
   "execution_count": 85,
   "id": "cf62e26d",
   "metadata": {},
   "outputs": [
    {
     "data": {
      "text/plain": [
       "array([1, 3, 5, 7, 9])"
      ]
     },
     "execution_count": 85,
     "metadata": {},
     "output_type": "execute_result"
    }
   ],
   "source": [
    "a = np.arange(1,11,2)\n",
    "a"
   ]
  },
  {
   "cell_type": "code",
   "execution_count": 86,
   "id": "799278c5",
   "metadata": {},
   "outputs": [
    {
     "data": {
      "text/plain": [
       "array([0.        , 0.33333333, 0.66666667, 1.        , 1.33333333,\n",
       "       1.66666667, 2.        , 2.33333333, 2.66666667, 3.        ])"
      ]
     },
     "execution_count": 86,
     "metadata": {},
     "output_type": "execute_result"
    }
   ],
   "source": [
    "#linspace - prints number in equal spaces.It has three arguments/Parameters.\n",
    "v = np.linspace(0,3,10)\n",
    "v"
   ]
  },
  {
   "cell_type": "code",
   "execution_count": 87,
   "id": "c37b3656",
   "metadata": {},
   "outputs": [
    {
     "data": {
      "text/plain": [
       "array([0.        , 0.26315789, 0.52631579, 0.78947368, 1.05263158,\n",
       "       1.31578947, 1.57894737, 1.84210526, 2.10526316, 2.36842105,\n",
       "       2.63157895, 2.89473684, 3.15789474, 3.42105263, 3.68421053,\n",
       "       3.94736842, 4.21052632, 4.47368421, 4.73684211, 5.        ])"
      ]
     },
     "execution_count": 87,
     "metadata": {},
     "output_type": "execute_result"
    }
   ],
   "source": [
    "v = np.linspace(0,5,20)\n",
    "v"
   ]
  },
  {
   "cell_type": "code",
   "execution_count": 89,
   "id": "43dc6240",
   "metadata": {},
   "outputs": [
    {
     "data": {
      "text/plain": [
       "array([0.        , 0.02040816, 0.04081633, 0.06122449, 0.08163265,\n",
       "       0.10204082, 0.12244898, 0.14285714, 0.16326531, 0.18367347,\n",
       "       0.20408163, 0.2244898 , 0.24489796, 0.26530612, 0.28571429,\n",
       "       0.30612245, 0.32653061, 0.34693878, 0.36734694, 0.3877551 ,\n",
       "       0.40816327, 0.42857143, 0.44897959, 0.46938776, 0.48979592,\n",
       "       0.51020408, 0.53061224, 0.55102041, 0.57142857, 0.59183673,\n",
       "       0.6122449 , 0.63265306, 0.65306122, 0.67346939, 0.69387755,\n",
       "       0.71428571, 0.73469388, 0.75510204, 0.7755102 , 0.79591837,\n",
       "       0.81632653, 0.83673469, 0.85714286, 0.87755102, 0.89795918,\n",
       "       0.91836735, 0.93877551, 0.95918367, 0.97959184, 1.        ])"
      ]
     },
     "execution_count": 89,
     "metadata": {},
     "output_type": "execute_result"
    }
   ],
   "source": [
    "v = np.linspace(0,1)\n",
    "v"
   ]
  },
  {
   "cell_type": "code",
   "execution_count": 90,
   "id": "51873482",
   "metadata": {},
   "outputs": [],
   "source": [
    "# random numbe generation\n",
    "#Creating a 5*5 random number matrix:\n",
    "v = np.random.randn(5,5)"
   ]
  },
  {
   "cell_type": "code",
   "execution_count": 91,
   "id": "e133c136",
   "metadata": {},
   "outputs": [
    {
     "data": {
      "text/plain": [
       "array([[-0.048895  , -1.16231901,  0.17213975,  0.36544786, -1.47657329],\n",
       "       [ 0.96468033, -0.03506307,  0.30176774,  0.06714271, -0.04781997],\n",
       "       [ 0.29443373, -2.80028715, -0.62565466,  0.20242433, -0.0212188 ],\n",
       "       [ 1.50032649, -0.28008359, -0.48920368, -0.62004696,  0.74036533],\n",
       "       [ 1.25443537,  0.31464417, -1.43173765, -1.04756213,  1.07798703]])"
      ]
     },
     "execution_count": 91,
     "metadata": {},
     "output_type": "execute_result"
    }
   ],
   "source": [
    "v"
   ]
  },
  {
   "cell_type": "code",
   "execution_count": 92,
   "id": "06e31f37",
   "metadata": {},
   "outputs": [],
   "source": [
    "v = np.random.rand(5,5)"
   ]
  },
  {
   "cell_type": "code",
   "execution_count": 93,
   "id": "82b75893",
   "metadata": {},
   "outputs": [
    {
     "data": {
      "text/plain": [
       "array([[0.42167408, 0.83352162, 0.45959048, 0.69235316, 0.83396267],\n",
       "       [0.44260113, 0.73216201, 0.45840242, 0.82927846, 0.22164887],\n",
       "       [0.06303301, 0.34727818, 0.15203344, 0.48286663, 0.37560513],\n",
       "       [0.97866705, 0.7320681 , 0.95504456, 0.79704782, 0.43821555],\n",
       "       [0.18896251, 0.72813257, 0.850098  , 0.59551941, 0.98052125]])"
      ]
     },
     "execution_count": 93,
     "metadata": {},
     "output_type": "execute_result"
    }
   ],
   "source": [
    "v"
   ]
  },
  {
   "cell_type": "code",
   "execution_count": 95,
   "id": "0cac3a2d",
   "metadata": {},
   "outputs": [
    {
     "data": {
      "text/plain": [
       "array([[0.2018668 , 0.48845659, 0.84067023],\n",
       "       [0.19939638, 0.38778123, 0.85546685],\n",
       "       [0.97273697, 0.85693296, 0.62002829],\n",
       "       [0.38878105, 0.67429259, 0.93561549],\n",
       "       [0.64755498, 0.09122036, 0.50248884],\n",
       "       [0.73422263, 0.2344365 , 0.87568764],\n",
       "       [0.17050008, 0.31404124, 0.12895146],\n",
       "       [0.97288561, 0.16451428, 0.51147401],\n",
       "       [0.66861495, 0.80854496, 0.85273189],\n",
       "       [0.78254075, 0.74139167, 0.68705506]])"
      ]
     },
     "execution_count": 95,
     "metadata": {},
     "output_type": "execute_result"
    }
   ],
   "source": [
    "v = np.random.rand(10,3)\n",
    "v\n",
    "                  "
   ]
  },
  {
   "cell_type": "code",
   "execution_count": 118,
   "id": "553dd727",
   "metadata": {},
   "outputs": [
    {
     "data": {
      "text/plain": [
       "array([[9, 1, 3, 3, 2],\n",
       "       [2, 7, 4, 1, 3],\n",
       "       [1, 8, 7, 4, 7],\n",
       "       [3, 2, 6, 1, 3],\n",
       "       [5, 8, 7, 0, 5]])"
      ]
     },
     "execution_count": 118,
     "metadata": {},
     "output_type": "execute_result"
    }
   ],
   "source": [
    "#Creating a random number matrix using only integer values:\n",
    "v = np.random.randint(10,size=(5,5))\n",
    "v"
   ]
  },
  {
   "cell_type": "code",
   "execution_count": 97,
   "id": "192eb781",
   "metadata": {},
   "outputs": [
    {
     "data": {
      "text/plain": [
       "array([[ 2,  8,  2,  4,  3],\n",
       "       [ 7,  7,  1,  7,  5],\n",
       "       [10,  9,  1, 10,  1],\n",
       "       [ 5,  8,  6,  7,  9],\n",
       "       [ 2,  8,  6,  1,  3]])"
      ]
     },
     "execution_count": 97,
     "metadata": {},
     "output_type": "execute_result"
    }
   ],
   "source": [
    "v = np.random.randint(1,11,size=(5,5))\n",
    "v"
   ]
  },
  {
   "cell_type": "code",
   "execution_count": 98,
   "id": "e868511c",
   "metadata": {},
   "outputs": [
    {
     "data": {
      "text/plain": [
       "array([[0, 1, 1, 1, 0],\n",
       "       [1, 0, 0, 1, 0],\n",
       "       [0, 1, 0, 0, 0],\n",
       "       [0, 0, 0, 1, 1],\n",
       "       [0, 1, 1, 0, 1]])"
      ]
     },
     "execution_count": 98,
     "metadata": {},
     "output_type": "execute_result"
    }
   ],
   "source": [
    "v = np.random.randint(2,size=(5,5))\n",
    "v"
   ]
  },
  {
   "cell_type": "code",
   "execution_count": 99,
   "id": "652431c9",
   "metadata": {},
   "outputs": [
    {
     "data": {
      "text/plain": [
       "array([[1, 1, 0, 0, 1],\n",
       "       [0, 0, 0, 0, 1],\n",
       "       [0, 1, 1, 1, 0]])"
      ]
     },
     "execution_count": 99,
     "metadata": {},
     "output_type": "execute_result"
    }
   ],
   "source": [
    "v = np.random.randint(2,size=(3,5))\n",
    "v"
   ]
  },
  {
   "cell_type": "code",
   "execution_count": 119,
   "id": "c80942f9",
   "metadata": {},
   "outputs": [
    {
     "data": {
      "text/plain": [
       "array([[1, 6, 9, 5, 4],\n",
       "       [7, 5, 3, 4, 2],\n",
       "       [5, 4, 4, 5, 2],\n",
       "       [9, 4, 8, 9, 3],\n",
       "       [3, 6, 2, 5, 8]])"
      ]
     },
     "execution_count": 119,
     "metadata": {},
     "output_type": "execute_result"
    }
   ],
   "source": [
    "v = np.random.randint(1,10,size=(5,5))\n",
    "v"
   ]
  },
  {
   "cell_type": "code",
   "execution_count": 103,
   "id": "7be75506",
   "metadata": {},
   "outputs": [],
   "source": [
    "#v = np.random.randint(-1,-2,size=(5,5))\n",
    "#v  =========== Error"
   ]
  },
  {
   "cell_type": "code",
   "execution_count": 114,
   "id": "5ed07809",
   "metadata": {},
   "outputs": [
    {
     "name": "stdout",
     "output_type": "stream",
     "text": [
      "[5, 7, 1]\n"
     ]
    }
   ],
   "source": [
    "#function example\n",
    "def mat():\n",
    "    n=[]\n",
    "    v= np.array([5,2,7,4,1])\n",
    "    v=list(v)\n",
    "    for x in v:\n",
    "        if x%2==1:\n",
    "            n.append(x)\n",
    "    print(n)\n",
    "mat()"
   ]
  },
  {
   "cell_type": "code",
   "execution_count": 120,
   "id": "e8387585",
   "metadata": {},
   "outputs": [
    {
     "data": {
      "text/plain": [
       "array([[1, 6, 9, 5, 4],\n",
       "       [7, 5, 3, 4, 2],\n",
       "       [5, 4, 4, 5, 2],\n",
       "       [9, 4, 8, 9, 3],\n",
       "       [3, 6, 2, 5, 8]])"
      ]
     },
     "execution_count": 120,
     "metadata": {},
     "output_type": "execute_result"
    }
   ],
   "source": [
    "v"
   ]
  },
  {
   "cell_type": "code",
   "execution_count": 121,
   "id": "0500aa4a",
   "metadata": {},
   "outputs": [
    {
     "data": {
      "text/plain": [
       "array([7, 5, 3, 4, 2])"
      ]
     },
     "execution_count": 121,
     "metadata": {},
     "output_type": "execute_result"
    }
   ],
   "source": [
    "#Access rown in array\n",
    "v[1]"
   ]
  },
  {
   "cell_type": "code",
   "execution_count": 122,
   "id": "0223f2a4",
   "metadata": {},
   "outputs": [
    {
     "data": {
      "text/plain": [
       "array([3, 6, 2, 5, 8])"
      ]
     },
     "execution_count": 122,
     "metadata": {},
     "output_type": "execute_result"
    }
   ],
   "source": [
    "v[4]"
   ]
  },
  {
   "cell_type": "code",
   "execution_count": 123,
   "id": "07a88ffe",
   "metadata": {},
   "outputs": [
    {
     "data": {
      "text/plain": [
       "8"
      ]
     },
     "execution_count": 123,
     "metadata": {},
     "output_type": "execute_result"
    }
   ],
   "source": [
    "#Accessing a single element in an array\n",
    "v[4][4]"
   ]
  },
  {
   "cell_type": "code",
   "execution_count": 124,
   "id": "05b5f774",
   "metadata": {},
   "outputs": [
    {
     "data": {
      "text/plain": [
       "8"
      ]
     },
     "execution_count": 124,
     "metadata": {},
     "output_type": "execute_result"
    }
   ],
   "source": [
    "v[4,4]"
   ]
  },
  {
   "cell_type": "code",
   "execution_count": 125,
   "id": "47028964",
   "metadata": {},
   "outputs": [
    {
     "data": {
      "text/plain": [
       "4"
      ]
     },
     "execution_count": 125,
     "metadata": {},
     "output_type": "execute_result"
    }
   ],
   "source": [
    "v[2,2]#alternative for the above code"
   ]
  },
  {
   "cell_type": "code",
   "execution_count": 126,
   "id": "0b87ef2f",
   "metadata": {},
   "outputs": [
    {
     "data": {
      "text/plain": [
       "6"
      ]
     },
     "execution_count": 126,
     "metadata": {},
     "output_type": "execute_result"
    }
   ],
   "source": [
    "v[0][1]"
   ]
  },
  {
   "cell_type": "code",
   "execution_count": 127,
   "id": "73adb99f",
   "metadata": {},
   "outputs": [
    {
     "data": {
      "text/plain": [
       "array([[1, 6, 9, 5, 4],\n",
       "       [7, 5, 3, 4, 2],\n",
       "       [5, 4, 4, 5, 2],\n",
       "       [9, 4, 8, 9, 3],\n",
       "       [3, 6, 2, 5, 8]])"
      ]
     },
     "execution_count": 127,
     "metadata": {},
     "output_type": "execute_result"
    }
   ],
   "source": [
    "v"
   ]
  },
  {
   "cell_type": "code",
   "execution_count": 128,
   "id": "f4bd23ce",
   "metadata": {},
   "outputs": [
    {
     "data": {
      "text/plain": [
       "array([6, 5, 4, 4, 6])"
      ]
     },
     "execution_count": 128,
     "metadata": {},
     "output_type": "execute_result"
    }
   ],
   "source": [
    "#Accessing of a column\n",
    "v[0:,1]"
   ]
  },
  {
   "cell_type": "code",
   "execution_count": 129,
   "id": "57881114",
   "metadata": {},
   "outputs": [
    {
     "data": {
      "text/plain": [
       "array([2, 3, 8])"
      ]
     },
     "execution_count": 129,
     "metadata": {},
     "output_type": "execute_result"
    }
   ],
   "source": [
    "v[2:,4]"
   ]
  },
  {
   "cell_type": "code",
   "execution_count": 130,
   "id": "13f78f16",
   "metadata": {},
   "outputs": [
    {
     "data": {
      "text/plain": [
       "array([1, 7, 5, 9, 3])"
      ]
     },
     "execution_count": 130,
     "metadata": {},
     "output_type": "execute_result"
    }
   ],
   "source": [
    "v[0:,0]"
   ]
  },
  {
   "cell_type": "code",
   "execution_count": 131,
   "id": "b61fcc23",
   "metadata": {},
   "outputs": [
    {
     "data": {
      "text/plain": [
       "array([[1, 6, 9, 5, 4],\n",
       "       [7, 5, 3, 4, 2],\n",
       "       [5, 4, 4, 5, 2],\n",
       "       [9, 4, 8, 9, 3],\n",
       "       [3, 6, 2, 5, 8]])"
      ]
     },
     "execution_count": 131,
     "metadata": {},
     "output_type": "execute_result"
    }
   ],
   "source": [
    "v[:,]"
   ]
  },
  {
   "cell_type": "code",
   "execution_count": 135,
   "id": "a4a3b453",
   "metadata": {},
   "outputs": [
    {
     "data": {
      "text/plain": [
       "array([[9],\n",
       "       [3],\n",
       "       [4],\n",
       "       [8],\n",
       "       [2]])"
      ]
     },
     "execution_count": 135,
     "metadata": {},
     "output_type": "execute_result"
    }
   ],
   "source": [
    "v[:,2].reshape(-1,1)"
   ]
  },
  {
   "cell_type": "code",
   "execution_count": 136,
   "id": "79537a13",
   "metadata": {},
   "outputs": [
    {
     "data": {
      "text/plain": [
       "array([[9],\n",
       "       [3]])"
      ]
     },
     "execution_count": 136,
     "metadata": {},
     "output_type": "execute_result"
    }
   ],
   "source": [
    "v[:2,2].reshape(-1,1)"
   ]
  },
  {
   "cell_type": "code",
   "execution_count": 137,
   "id": "1a91e3fd",
   "metadata": {},
   "outputs": [
    {
     "data": {
      "text/plain": [
       "array([[9],\n",
       "       [3],\n",
       "       [4]])"
      ]
     },
     "execution_count": 137,
     "metadata": {},
     "output_type": "execute_result"
    }
   ],
   "source": [
    "v[:3,2].reshape(-1,1)"
   ]
  },
  {
   "cell_type": "code",
   "execution_count": 138,
   "id": "1d8e64d4",
   "metadata": {},
   "outputs": [],
   "source": [
    "a = v[0:,2]"
   ]
  },
  {
   "cell_type": "code",
   "execution_count": 139,
   "id": "00845b24",
   "metadata": {},
   "outputs": [
    {
     "data": {
      "text/plain": [
       "array([9, 3, 4, 8, 2])"
      ]
     },
     "execution_count": 139,
     "metadata": {},
     "output_type": "execute_result"
    }
   ],
   "source": [
    "a.T"
   ]
  },
  {
   "cell_type": "code",
   "execution_count": 141,
   "id": "3854c2de",
   "metadata": {},
   "outputs": [
    {
     "data": {
      "text/plain": [
       "array([[9],\n",
       "       [3],\n",
       "       [4],\n",
       "       [8],\n",
       "       [2]])"
      ]
     },
     "execution_count": 141,
     "metadata": {},
     "output_type": "execute_result"
    }
   ],
   "source": [
    "a = v[0:,2]\n",
    "a.reshape(-1,1)"
   ]
  },
  {
   "cell_type": "code",
   "execution_count": 142,
   "id": "4eefe78e",
   "metadata": {},
   "outputs": [
    {
     "data": {
      "text/plain": [
       "array([6, 5, 4, 4, 6])"
      ]
     },
     "execution_count": 142,
     "metadata": {},
     "output_type": "execute_result"
    }
   ],
   "source": [
    "c = v[:,1]\n",
    "c"
   ]
  },
  {
   "cell_type": "code",
   "execution_count": 143,
   "id": "cc568c4e",
   "metadata": {},
   "outputs": [],
   "source": [
    "c= list(c)"
   ]
  },
  {
   "cell_type": "code",
   "execution_count": 144,
   "id": "6821251c",
   "metadata": {},
   "outputs": [
    {
     "data": {
      "text/plain": [
       "6"
      ]
     },
     "execution_count": 144,
     "metadata": {},
     "output_type": "execute_result"
    }
   ],
   "source": [
    "c.pop()"
   ]
  },
  {
   "cell_type": "code",
   "execution_count": 145,
   "id": "9f94acb9",
   "metadata": {},
   "outputs": [
    {
     "data": {
      "text/plain": [
       "[6, 5, 4, 4]"
      ]
     },
     "execution_count": 145,
     "metadata": {},
     "output_type": "execute_result"
    }
   ],
   "source": [
    "c"
   ]
  },
  {
   "cell_type": "code",
   "execution_count": null,
   "id": "3165e5c6",
   "metadata": {},
   "outputs": [],
   "source": []
  }
 ],
 "metadata": {
  "kernelspec": {
   "display_name": "Python 3",
   "language": "python",
   "name": "python3"
  },
  "language_info": {
   "codemirror_mode": {
    "name": "ipython",
    "version": 3
   },
   "file_extension": ".py",
   "mimetype": "text/x-python",
   "name": "python",
   "nbconvert_exporter": "python",
   "pygments_lexer": "ipython3",
   "version": "3.8.8"
  }
 },
 "nbformat": 4,
 "nbformat_minor": 5
}
